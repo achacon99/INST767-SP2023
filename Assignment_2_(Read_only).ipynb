{
  "cells": [
    {
      "cell_type": "markdown",
      "metadata": {
        "id": "oSj4TGS0xBRO"
      },
      "source": [
        "# Assignment 2\n",
        "\n",
        "In this assignment, you are asked to calculate the word co-occurrence of the Shakespeare collection and check its correctness using a non-Hadoop approach. Specifically, we ask you to implement the **pairs** design pattern.\n",
        "\n",
        "We have prepared some test cases to help you verify the correctness of your code. Correctly implemented mapper and reducer functions should produce results as indicated in the test cells:\n",
        "1. How many pairs of words cooccurred at least 10 times?\n",
        "2. How many times does the word 'macbeth' and 'lady' cooccur?\n",
        "3. Which pair of words have the largest cooccurrence?\n",
        "\n",
        "We have prepared the code to help you check your answer. However, we also ask you to **calculate the word co-occurrence without using Hadoop**. Could you answer the previous three questions with a non-Hadoop solution?\n",
        "\n",
        "Some specific requirements are as follows:\n",
        "1. Your mapper should output cooccurrence pairs as `(word1, word2)\\t[NUM]`. This is because the Hadoop use `\\t` to split key and values.\n",
        "2. You should output *unique* cooccurrence of different words for each line. That is, a line containing four word \"A A B C\" should yield 6 cooccurrence pairs -- (A,B),(B,A),(A,C),(C,A),(B,C),(C,B).\n",
        "3. We are only interested in pairs of words that cooccur at least 10 times.\n",
        "\n",
        "The CoLab notebook is organized as follows:\n",
        "1. In the first section **Installing Hadoop**, we provide you the basic code to install Hadoop. This is the same code we used during the classroom demo.\n",
        "We made a couple of changes compared with Week 1:\n",
        "2. In the second section **Shakespeare Word Count**, we download the dataset and provide you the basic mapper and reducer for the word count example demonstrated in the classroom. This allows you to verify the successful installation and basic running of hadoop.\n",
        "3. In **Word Co-occurrence as Pairs**, we ask you to complete the mapper and reducer function and run them with the Hadoop command.\n",
        "4. In **Checking your answer**, we prepared codes to check your results.\n",
        "5. Finally, in **Calculate Co-occurrence without Hadoop?**, we ask you to write your own code to calculate the cooccurrence and answer the same three questions.\n",
        "\n",
        "**Grades:** This assignment accounts for 10 points. \n",
        "- 4 points for implementing the mapper and reducer correctly.\n",
        "- 3 points for using the Hadoop output to answer the three questions correctly. - 3 points for a seperate implementation without using non-Hadoop.\n",
        "\n",
        "**Submission:** Please download your notebook and submit them to ELMS. We will make a minimal effort to fix trivial issues with your code and deduct points, but will not spend time debugging your code. It is your responsibility to make sure your code runs in CoLab. If anything is unclear, it is your responsibility to seek clarification."
      ]
    },
    {
      "cell_type": "markdown",
      "metadata": {
        "id": "jmVdE3ic3Caz"
      },
      "source": [
        "## Installing Hadoop"
      ]
    },
    {
      "cell_type": "code",
      "execution_count": 1,
      "metadata": {
        "colab": {
          "base_uri": "https://localhost:8080/"
        },
        "id": "MtGsA5LknFpL",
        "outputId": "5bc012d2-4fc1-4fb5-aae2-65e4ec8ac3db"
      },
      "outputs": [
        {
          "name": "stdout",
          "output_type": "stream",
          "text": [
            "zsh:1: command not found: wget\n"
          ]
        }
      ],
      "source": [
        "!wget https://downloads.apache.org/hadoop/common/hadoop-3.3.4/hadoop-3.3.4.tar.gz"
      ]
    },
    {
      "cell_type": "code",
      "execution_count": 2,
      "metadata": {
        "id": "zJLL4A78nr9t"
      },
      "outputs": [
        {
          "name": "stdout",
          "output_type": "stream",
          "text": [
            "tar: Error opening archive: Failed to open 'hadoop-3.3.4.tar.gz'\n"
          ]
        }
      ],
      "source": [
        "!tar -xzf hadoop-3.3.4.tar.gz"
      ]
    },
    {
      "cell_type": "code",
      "execution_count": null,
      "metadata": {
        "id": "n_1y7L5mnwIT"
      },
      "outputs": [],
      "source": [
        "!cp -r hadoop-3.3.4/ /usr/local/"
      ]
    },
    {
      "cell_type": "code",
      "execution_count": null,
      "metadata": {
        "colab": {
          "base_uri": "https://localhost:8080/"
        },
        "id": "TMxznGpYn9UP",
        "outputId": "cdb5951a-3810-4667-ae73-dbb189a836c6"
      },
      "outputs": [
        {
          "name": "stdout",
          "output_type": "stream",
          "text": [
            "/usr/lib/jvm/java-11-openjdk-amd64/\n"
          ]
        }
      ],
      "source": [
        "!readlink -f /usr/bin/java | sed \"s:bin/java::\""
      ]
    },
    {
      "cell_type": "code",
      "execution_count": null,
      "metadata": {
        "id": "6p-M-aiAobw_"
      },
      "outputs": [],
      "source": [
        "#Importing os module\n",
        "import os\n",
        "#Creating environment variables\n",
        "os.environ[\"JAVA_HOME\"] = \"/usr/lib/jvm/java-11-openjdk-amd64/\""
      ]
    },
    {
      "cell_type": "code",
      "execution_count": null,
      "metadata": {
        "id": "1hHJ2iGpo4O2"
      },
      "outputs": [],
      "source": [
        "!mkdir ~/input\n",
        "!cp /usr/local/hadoop-3.3.4/etc/hadoop/*.xml ~/input"
      ]
    },
    {
      "cell_type": "markdown",
      "metadata": {
        "id": "BaTVnq_z2-FG"
      },
      "source": [
        "## Shakespeare Word Count\n",
        "\n",
        "We made a couple of changes compared with Week 1:\n",
        "1. We write a new tokenizer for Mapper, which removes unnecessary punctuations.\n",
        "2. We filter out rare words (words that appears less than 10 times) in reducer."
      ]
    },
    {
      "cell_type": "code",
      "execution_count": null,
      "metadata": {
        "id": "P-_vD8IX6ut9"
      },
      "outputs": [],
      "source": [
        "# Download the Shakespear collection\n",
        "!wget https://www.gutenberg.org/cache/epub/100/pg100.txt"
      ]
    },
    {
      "cell_type": "code",
      "execution_count": null,
      "metadata": {
        "id": "23XBl82Myv_4"
      },
      "outputs": [],
      "source": [
        "!mv pg100.txt /content/shakespeare.txt"
      ]
    },
    {
      "cell_type": "code",
      "execution_count": null,
      "metadata": {
        "id": "zczkLopy2zaB"
      },
      "outputs": [],
      "source": [
        "mapperpy = '''#!/usr/bin/env python\n",
        "\"\"\"mapper.py\"\"\"\n",
        "import sys\n",
        "import re\n",
        "# input comes from STDIN (standard input)\n",
        "\n",
        "PAT = re.compile(\"(^[^a-z]+|[^a-z]+$)\")\n",
        "\n",
        "def tokenize(line):\n",
        "    #tokenize the string, remove unnecessary characters\n",
        "    tokens = [re.sub(PAT, \"\", t.lower()) for t in line.split()]\n",
        "    #returning non-empty strings as tokenization result\n",
        "    return list(filter(lambda x:len(x)>0, tokens))\n",
        "\n",
        "for line in sys.stdin:\n",
        "    # remove leading and trailing whitespace\n",
        "    line = line.strip()\n",
        "    # tokenize the line into words\n",
        "    tokens = tokenize(line)\n",
        "    # increase counters\n",
        "    for t in tokens:\n",
        "        # write the results to STDOUT (standard output);\n",
        "        # what we output here will be the input for the\n",
        "        # Reduce step, i.e. the input for reducer.py\n",
        "        #\n",
        "        # tab-delimited; the trivial word count is 1\n",
        "        print('%s\\t%s' % (t, 1))\n",
        "'''\n",
        "\n",
        "with open(\"mapper.py\", \"w\") as fmap:\n",
        "  fmap.write(mapperpy)\n",
        "\n",
        "!chmod +x mapper.py"
      ]
    },
    {
      "cell_type": "code",
      "execution_count": null,
      "metadata": {
        "id": "SlyhaQpR6sER"
      },
      "outputs": [],
      "source": [
        "reducerpy = '''#!/usr/bin/env python\n",
        "\"\"\"reducer.py\"\"\"\n",
        "from operator import itemgetter\n",
        "import sys\n",
        "current_word = None\n",
        "current_count = 0\n",
        "word = None\n",
        "# input comes from STDIN\n",
        "for line in sys.stdin:\n",
        "    # remove leading and trailing whitespace\n",
        "    line = line.strip()\n",
        "    # parse the input we got from mapper.py\n",
        "    word, count = line.split('\\t', 1)\n",
        "    # convert count (currently a string) to int\n",
        "    try:\n",
        "        count = int(count)\n",
        "    except ValueError:\n",
        "        # count was not a number, so silently\n",
        "        # ignore/discard this line\n",
        "        continue\n",
        "    # this IF-switch only works because Hadoop sorts map output\n",
        "    # by key (here: word) before it is passed to the reducer\n",
        "    if current_word == word:\n",
        "        current_count += count\n",
        "    else:\n",
        "        if current_word:\n",
        "            # write result to STDOUT\n",
        "            if current_count >= 10:\n",
        "                print('%s\\t%s' % (current_word, current_count))\n",
        "        current_count = count\n",
        "        current_word = word\n",
        "# do not forget to output the last word if needed!\n",
        "if current_word == word:\n",
        "    if current_count >= 10:\n",
        "        print('%s\\t%s' % (current_word, current_count))\n",
        "'''\n",
        "\n",
        "with open(\"reducer.py\", \"w\") as freduce:\n",
        "  freduce.write(reducerpy)\n",
        "\n",
        "!chmod +x reducer.py"
      ]
    },
    {
      "cell_type": "code",
      "execution_count": null,
      "metadata": {
        "id": "cvBbnNnh6z_e"
      },
      "outputs": [],
      "source": [
        "!rm -r /content/output\n",
        "\n",
        "!/usr/local/hadoop-3.3.4/bin/hadoop jar /usr/local/hadoop-3.3.4/share/hadoop/tools/lib/hadoop-streaming-3.3.4.jar \\\n",
        "  -input /content/shakespeare.txt \\\n",
        "  -output /content/output \\\n",
        "  -numReduceTasks 10 \\\n",
        "  -mapper \"python /content/mapper.py\" \\\n",
        "  -reducer \"python /content/reducer.py\""
      ]
    },
    {
      "cell_type": "markdown",
      "metadata": {
        "id": "_U9VBtd42MUP"
      },
      "source": [
        "## Word Co-occurrence as Pairs\n",
        "Below we provide a skeleton mapper and reducer for you. Please complete the mapper and reducer functions to calculate the word co-occurrence as pairs. "
      ]
    },
    {
      "cell_type": "code",
      "execution_count": null,
      "metadata": {
        "id": "bVIuNjoV1j7o"
      },
      "outputs": [],
      "source": [
        "pairs_mapper = '''#!/usr/bin/env python\n",
        "\"\"\"mapper.py\"\"\"\n",
        "import sys\n",
        "import re\n",
        "# input comes from STDIN (standard input)\n",
        "\n",
        "PAT = re.compile(\"(^[^a-z]+|[^a-z]+$)\")\n",
        "\n",
        "def tokenize(line):\n",
        "    #tokenize the string, remove unnecessary characters\n",
        "    tokens = [re.sub(PAT, \"\", t.lower()) for t in line.split()]\n",
        "    #returning non-empty strings as tokenization result\n",
        "    return list(filter(lambda x:len(x)>0, tokens))\n",
        "\n",
        "[[[[PLEASE COMPLETE YOUR CODE HERE]]]]\n",
        "\n",
        "'''\n",
        "\n",
        "with open(\"pairs_mapper.py\", \"w\") as fmap:\n",
        "  fmap.write(pairs_mapper)\n",
        "\n",
        "!chmod +x pairs_mapper.py"
      ]
    },
    {
      "cell_type": "code",
      "execution_count": null,
      "metadata": {
        "id": "lL8WNjkByjgH"
      },
      "outputs": [],
      "source": [
        "pairs_reducer = '''#!/usr/bin/env python\n",
        "\"\"\"reducer.py\"\"\"\n",
        "from operator import itemgetter\n",
        "import sys\n",
        "\n",
        "[[[[PLEASE COMPLETE YOUR CODE HERE]]]]\n",
        "\n",
        "'''\n",
        "\n",
        "with open(\"pairs_reducer.py\", \"w\") as freduce:\n",
        "  freduce.write(pairs_reducer)\n",
        "\n",
        "!chmod +x pairs_reducer.py"
      ]
    },
    {
      "cell_type": "code",
      "execution_count": null,
      "metadata": {
        "id": "TfQAxfDxzI0_"
      },
      "outputs": [],
      "source": [
        "!rm -r /content/pairs_output\n",
        "\n",
        "!/usr/local/hadoop-3.3.4/bin/hadoop jar /usr/local/hadoop-3.3.4/share/hadoop/tools/lib/hadoop-streaming-3.3.4.jar \\\n",
        "  -input /content/shakespeare.txt \\\n",
        "  -output /content/pairs_output \\\n",
        "  -numReduceTasks 10 \\\n",
        "  -mapper \"python /content/pairs_mapper.py\" \\\n",
        "  -reducer \"python /content/pairs_reducer.py\""
      ]
    },
    {
      "cell_type": "markdown",
      "metadata": {
        "id": "EVgFdXe52hR_"
      },
      "source": [
        "## Checking your answer"
      ]
    },
    {
      "cell_type": "code",
      "execution_count": null,
      "metadata": {
        "colab": {
          "base_uri": "https://localhost:8080/"
        },
        "id": "V81b2iosz_Dl",
        "outputId": "bffe498e-4d56-41a2-e6ef-9569dfa8ac54"
      },
      "outputs": [
        {
          "name": "stdout",
          "output_type": "stream",
          "text": [
            "  78498  235494 1248414\n"
          ]
        }
      ],
      "source": [
        "# The following code checks how many co-occurrence pairs there are, that is, \n",
        "# the total number of lines in the output files. \n",
        "# The correct answer should be 79498\n",
        "!cat /content/pairs_output/* | wc"
      ]
    },
    {
      "cell_type": "code",
      "execution_count": null,
      "metadata": {
        "colab": {
          "base_uri": "https://localhost:8080/"
        },
        "id": "4cronvq90SmP",
        "outputId": "d7c5c429-ca76-49b8-d150-ff67ea22f01b"
      },
      "outputs": [
        {
          "name": "stdout",
          "output_type": "stream",
          "text": [
            "/content/output/part-00006:(macbeth, lady)\t73\n"
          ]
        }
      ],
      "source": [
        "# The following code checks how many times the word 'macbeth' co-occurred with\n",
        "# the word 'lady'.\n",
        "# The correct answer should be 73\n",
        "!grep '(macbeth, lady)' /content/pairs_output/*"
      ]
    },
    {
      "cell_type": "code",
      "execution_count": null,
      "metadata": {
        "colab": {
          "base_uri": "https://localhost:8080/"
        },
        "id": "rxVxPgDA0qnq",
        "outputId": "bd71d000-f22d-4f36-bffa-20cc4ef962cd"
      },
      "outputs": [
        {
          "name": "stdout",
          "output_type": "stream",
          "text": [
            "(the, of)\t7914\n",
            "(of, the)\t7914\n"
          ]
        }
      ],
      "source": [
        "# The following code checks which pair of words co-occurred the most times.\n",
        "# The correct answer should be 'the' and 'of'.\n",
        "!cat /content/pairs_output/* | sort -k 3 -g -r |head -2"
      ]
    },
    {
      "cell_type": "markdown",
      "metadata": {
        "id": "QvxKqw883Mvs"
      },
      "source": [
        "## Calculate Co-occurrence without Hadoop?\n",
        "\n",
        "Below, please redo the co-occurrence calculation without using Hadoop. You may use whatever method that you are familiar with. Do they "
      ]
    },
    {
      "cell_type": "code",
      "execution_count": null,
      "metadata": {
        "id": "I36UHEKf0xP8"
      },
      "outputs": [],
      "source": []
    }
  ],
  "metadata": {
    "colab": {
      "provenance": []
    },
    "kernelspec": {
      "display_name": "Python 3",
      "language": "python",
      "name": "python3"
    },
    "language_info": {
      "codemirror_mode": {
        "name": "ipython",
        "version": 3
      },
      "file_extension": ".py",
      "mimetype": "text/x-python",
      "name": "python",
      "nbconvert_exporter": "python",
      "pygments_lexer": "ipython3",
      "version": "3.8.1"
    },
    "vscode": {
      "interpreter": {
        "hash": "aee8b7b246df8f9039afb4144a1f6fd8d2ca17a180786b69acc140d282b71a49"
      }
    }
  },
  "nbformat": 4,
  "nbformat_minor": 0
}
