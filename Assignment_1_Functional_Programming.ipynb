{
  "cells": [
    {
      "cell_type": "markdown",
      "metadata": {
        "id": "view-in-github",
        "colab_type": "text"
      },
      "source": [
        "<a href=\"https://colab.research.google.com/github/alechacon99/INST767-SP2023/blob/main/Assignment_1_Functional_Programming.ipynb\" target=\"_parent\"><img src=\"https://colab.research.google.com/assets/colab-badge.svg\" alt=\"Open In Colab\"/></a>"
      ]
    },
    {
      "cell_type": "markdown",
      "metadata": {
        "id": "hJb9PJtoLDG3"
      },
      "source": [
        "### Functional Programming"
      ]
    },
    {
      "cell_type": "code",
      "execution_count": null,
      "metadata": {
        "id": "aj-vAx0gLDG5"
      },
      "outputs": [],
      "source": [
        "## import reduce\n",
        "from functools import reduce "
      ]
    },
    {
      "cell_type": "code",
      "execution_count": null,
      "metadata": {
        "id": "UDO9DrVJLDG6"
      },
      "outputs": [],
      "source": [
        "## dummy array\n",
        "t = [1,2,3,4,5,5,1,3]"
      ]
    },
    {
      "cell_type": "code",
      "execution_count": null,
      "metadata": {
        "id": "rzMn1Ve7LDG6",
        "outputId": "f041985e-732d-41a0-c1ab-fc8ae60ac4f0"
      },
      "outputs": [
        {
          "name": "stdout",
          "output_type": "stream",
          "text": [
            "[1, 4, 9, 16, 25, 25, 1, 9]\n"
          ]
        }
      ],
      "source": [
        "## square each array element using map\n",
        "t2 = list(map(lambda x: x*x, t))\n",
        "print(t2)"
      ]
    },
    {
      "cell_type": "code",
      "execution_count": null,
      "metadata": {
        "id": "tcPyZNgTLDG7",
        "outputId": "407cd602-d11e-4b60-829e-5b48f7288d36"
      },
      "outputs": [
        {
          "name": "stdout",
          "output_type": "stream",
          "text": [
            "sum:  90\n"
          ]
        }
      ],
      "source": [
        "## find the sum of the elements using reduce\n",
        "t3 = reduce(lambda x, y: x+y, t2)\n",
        "print(\"sum: \", t3)"
      ]
    },
    {
      "cell_type": "code",
      "execution_count": null,
      "metadata": {
        "id": "kkoKfs8hLDG8",
        "outputId": "99ff33a2-a0c0-4fb7-8aef-90cb977ff919"
      },
      "outputs": [
        {
          "data": {
            "text/plain": [
              "5"
            ]
          },
          "execution_count": 83,
          "metadata": {},
          "output_type": "execute_result"
        }
      ],
      "source": [
        "## find the max value using reduce\n",
        "reduce(lambda x, y: x if x > y else y, t)"
      ]
    },
    {
      "cell_type": "code",
      "execution_count": null,
      "metadata": {
        "id": "qs_xboX6LDG8",
        "outputId": "8045c71a-532a-4ed6-887b-4b4ffd8c3801"
      },
      "outputs": [
        {
          "data": {
            "text/plain": [
              "[2, 4]"
            ]
          },
          "execution_count": 86,
          "metadata": {},
          "output_type": "execute_result"
        }
      ],
      "source": [
        "list(filter(lambda x: x % 2 == 0, t))"
      ]
    },
    {
      "cell_type": "markdown",
      "metadata": {
        "id": "_eoEwuq2LDG9"
      },
      "source": [
        "### Task1"
      ]
    },
    {
      "cell_type": "code",
      "execution_count": null,
      "metadata": {
        "id": "rTwhqdnyLDG9"
      },
      "outputs": [],
      "source": [
        "t = [1, 2, \"hello\", \"see\", 5, \"brother\"]"
      ]
    },
    {
      "cell_type": "code",
      "execution_count": null,
      "metadata": {
        "id": "nsP3lednLDG9"
      },
      "outputs": [],
      "source": [
        "## Given t, find the total number of vowels in all the string\n",
        "## expected final output: 6\n",
        "## Your code should have expected output for each block below."
      ]
    },
    {
      "cell_type": "code",
      "execution_count": null,
      "metadata": {
        "id": "hKi9dw8OLDG-"
      },
      "outputs": [],
      "source": [
        "## Filter the integers out using the filter function\n",
        "## expected output: ['hello', 'see', 'brother']\n",
        "## WRITE YOUR CODE HERE"
      ]
    },
    {
      "cell_type": "code",
      "execution_count": null,
      "metadata": {
        "id": "ixlHHs2uLDG-"
      },
      "outputs": [],
      "source": [
        "## Find the position of the vowels in each string. You can not use any for loop here. \n",
        "## expected output: [('hello', [0, 1, 0, 0, 1]), ('see', [0, 1, 1]), ('brother', [0, 0, 1, 0, 0, 1, 0])]\n",
        "## WRITE YOUR CODE HERE"
      ]
    },
    {
      "cell_type": "code",
      "execution_count": null,
      "metadata": {
        "id": "v7ivqOHgLDG_"
      },
      "outputs": [],
      "source": [
        "## Now, count the number of the vowels in each string. You can not use any for loop here.\n",
        "## expected output: [('hello', 2), ('see', 2), ('brother', 2)]\n",
        "## WRITE YOUR CODE HERE"
      ]
    },
    {
      "cell_type": "code",
      "execution_count": null,
      "metadata": {
        "id": "h1KZx5KKLDG_"
      },
      "outputs": [],
      "source": [
        "## Calculate the total number of vowels\n",
        "## expected output: 6\n",
        "## WRITE YOUR CODE HERE"
      ]
    },
    {
      "cell_type": "markdown",
      "metadata": {
        "id": "SHdH_NbELDG_"
      },
      "source": [
        "### Task 2"
      ]
    },
    {
      "cell_type": "code",
      "execution_count": null,
      "metadata": {
        "id": "WR8P27HLLDG_"
      },
      "outputs": [],
      "source": [
        "## Given t, find the last vowel of each string.\n",
        "## expected output: [('hello', 'o'), ('see', 'e'), ('brother', 'e')]\n",
        "## There are no stepwise instructions for this task.\n",
        "## you can write your code anyway you want.\n",
        "## But, you can only use functional programming.\n",
        "## Please provide necessary explanation in comments.\n",
        "## WRITE YOUR CODE HERE"
      ]
    },
    {
      "cell_type": "code",
      "execution_count": null,
      "metadata": {
        "id": "k_qgedrbLDHA"
      },
      "outputs": [],
      "source": []
    }
  ],
  "metadata": {
    "kernelspec": {
      "display_name": "Python 3",
      "language": "python",
      "name": "python3"
    },
    "language_info": {
      "codemirror_mode": {
        "name": "ipython",
        "version": 3
      },
      "file_extension": ".py",
      "mimetype": "text/x-python",
      "name": "python",
      "nbconvert_exporter": "python",
      "pygments_lexer": "ipython3",
      "version": "3.7.9"
    },
    "colab": {
      "provenance": [],
      "include_colab_link": true
    }
  },
  "nbformat": 4,
  "nbformat_minor": 0
}