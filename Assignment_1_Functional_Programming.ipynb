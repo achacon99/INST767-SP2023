{
  "cells": [
    {
      "cell_type": "markdown",
      "metadata": {
        "colab_type": "text",
        "id": "view-in-github"
      },
      "source": [
        "<a href=\"https://colab.research.google.com/github/alechacon99/INST767-SP2023/blob/main/Assignment_1_Functional_Programming.ipynb\" target=\"_parent\"><img src=\"https://colab.research.google.com/assets/colab-badge.svg\" alt=\"Open In Colab\"/></a>"
      ]
    },
    {
      "cell_type": "markdown",
      "metadata": {
        "id": "hJb9PJtoLDG3"
      },
      "source": [
        "### Functional Programming"
      ]
    },
    {
      "cell_type": "code",
      "execution_count": 1,
      "metadata": {
        "id": "aj-vAx0gLDG5"
      },
      "outputs": [],
      "source": [
        "## import reduce\n",
        "from functools import reduce "
      ]
    },
    {
      "cell_type": "code",
      "execution_count": null,
      "metadata": {
        "id": "UDO9DrVJLDG6"
      },
      "outputs": [],
      "source": [
        "## dummy array\n",
        "t = [1,2,3,4,5,5,1,3]"
      ]
    },
    {
      "cell_type": "code",
      "execution_count": null,
      "metadata": {
        "id": "rzMn1Ve7LDG6",
        "outputId": "f041985e-732d-41a0-c1ab-fc8ae60ac4f0"
      },
      "outputs": [
        {
          "name": "stdout",
          "output_type": "stream",
          "text": [
            "[1, 4, 9, 16, 25, 25, 1, 9]\n"
          ]
        }
      ],
      "source": [
        "## square each array element using map\n",
        "t2 = list(map(lambda x: x*x, t))\n",
        "print(t2)"
      ]
    },
    {
      "cell_type": "code",
      "execution_count": null,
      "metadata": {
        "id": "tcPyZNgTLDG7",
        "outputId": "407cd602-d11e-4b60-829e-5b48f7288d36"
      },
      "outputs": [
        {
          "name": "stdout",
          "output_type": "stream",
          "text": [
            "sum:  90\n"
          ]
        }
      ],
      "source": [
        "## find the sum of the elements using reduce\n",
        "t3 = reduce(lambda x, y: x+y, t2)\n",
        "print(\"sum: \", t3)"
      ]
    },
    {
      "cell_type": "code",
      "execution_count": null,
      "metadata": {
        "id": "kkoKfs8hLDG8",
        "outputId": "99ff33a2-a0c0-4fb7-8aef-90cb977ff919"
      },
      "outputs": [
        {
          "data": {
            "text/plain": [
              "5"
            ]
          },
          "execution_count": 83,
          "metadata": {},
          "output_type": "execute_result"
        }
      ],
      "source": [
        "## find the max value using reduce\n",
        "reduce(lambda x, y: x if x > y else y, t)"
      ]
    },
    {
      "cell_type": "code",
      "execution_count": null,
      "metadata": {
        "id": "qs_xboX6LDG8",
        "outputId": "8045c71a-532a-4ed6-887b-4b4ffd8c3801"
      },
      "outputs": [
        {
          "data": {
            "text/plain": [
              "[2, 4]"
            ]
          },
          "execution_count": 86,
          "metadata": {},
          "output_type": "execute_result"
        }
      ],
      "source": [
        "list(filter(lambda x: x % 2 == 0, t))"
      ]
    },
    {
      "cell_type": "markdown",
      "metadata": {
        "id": "_eoEwuq2LDG9"
      },
      "source": [
        "### Task1"
      ]
    },
    {
      "cell_type": "code",
      "execution_count": 2,
      "metadata": {
        "id": "rTwhqdnyLDG9"
      },
      "outputs": [],
      "source": [
        "t = [1, 2, \"hello\", \"see\", 5, \"brother\"]"
      ]
    },
    {
      "cell_type": "code",
      "execution_count": null,
      "metadata": {
        "id": "nsP3lednLDG9"
      },
      "outputs": [],
      "source": [
        "## Given t, find the total number of vowels in all the string\n",
        "## expected final output: 6\n",
        "## Your code should have expected output for each block below."
      ]
    },
    {
      "cell_type": "code",
      "execution_count": 3,
      "metadata": {
        "id": "hKi9dw8OLDG-"
      },
      "outputs": [
        {
          "data": {
            "text/plain": [
              "['hello', 'see', 'brother']"
            ]
          },
          "execution_count": 3,
          "metadata": {},
          "output_type": "execute_result"
        }
      ],
      "source": [
        "## Filter the integers out using the filter function\n",
        "## expected output: ['hello', 'see', 'brother']\n",
        "## WRITE YOUR CODE HERE\n",
        "\n",
        "t2 = list(filter(lambda x: type(x) == str, t))\n",
        "t2"
      ]
    },
    {
      "cell_type": "code",
      "execution_count": 18,
      "metadata": {
        "id": "ixlHHs2uLDG-"
      },
      "outputs": [
        {
          "data": {
            "text/plain": [
              "[('hello', [0, 1, 0, 0, 1]),\n",
              " ('see', [0, 1, 1]),\n",
              " ('brother', [0, 0, 1, 0, 0, 1, 0])]"
            ]
          },
          "execution_count": 18,
          "metadata": {},
          "output_type": "execute_result"
        }
      ],
      "source": [
        "## Find the position of the vowels in each string. You can not use any for loop here. \n",
        "## expected output: [('hello', [0, 1, 0, 0, 1]), ('see', [0, 1, 1]), ('brother', [0, 0, 1, 0, 0, 1, 0])]\n",
        "## WRITE YOUR CODE HERE\n",
        "vowels = 'aeiouAEIOU'\n",
        "t3 = list(map(lambda x: (x, list(map(lambda x: 1 if x in vowels else 0, x))), t2))\n",
        "t3"
      ]
    },
    {
      "cell_type": "code",
      "execution_count": 20,
      "metadata": {
        "id": "v7ivqOHgLDG_"
      },
      "outputs": [
        {
          "data": {
            "text/plain": [
              "[('hello', 2), ('see', 2), ('brother', 2)]"
            ]
          },
          "execution_count": 20,
          "metadata": {},
          "output_type": "execute_result"
        }
      ],
      "source": [
        "## Now, count the number of the vowels in each string. You can not use any for loop here.\n",
        "## expected output: [('hello', 2), ('see', 2), ('brother', 2)]\n",
        "## WRITE YOUR CODE HERE\n",
        "\n",
        "t4 = list(map(lambda x: (x[0], reduce(lambda z, y: z+y, x[1])), t3))\n",
        "t4"
      ]
    },
    {
      "cell_type": "code",
      "execution_count": 21,
      "metadata": {
        "id": "h1KZx5KKLDG_"
      },
      "outputs": [
        {
          "data": {
            "text/plain": [
              "6"
            ]
          },
          "execution_count": 21,
          "metadata": {},
          "output_type": "execute_result"
        }
      ],
      "source": [
        "## Calculate the total number of vowels\n",
        "## expected output: 6\n",
        "## WRITE YOUR CODE HERE\n",
        "\n",
        "t_num_vowel = reduce(lambda x, y: x + y, list(map(lambda x: x[1], t4)))\n",
        "t_num_vowel"
      ]
    },
    {
      "cell_type": "markdown",
      "metadata": {
        "id": "SHdH_NbELDG_"
      },
      "source": [
        "### Task 2"
      ]
    },
    {
      "cell_type": "code",
      "execution_count": 24,
      "metadata": {
        "id": "WR8P27HLLDG_"
      },
      "outputs": [
        {
          "data": {
            "text/plain": [
              "[('hello', 'o'), ('see', 'e'), ('brother', '')]"
            ]
          },
          "execution_count": 24,
          "metadata": {},
          "output_type": "execute_result"
        }
      ],
      "source": [
        "## Given t, find the last vowel of each string.\n",
        "## expected output: [('hello', 'o'), ('see', 'e'), ('brother', 'e')]\n",
        "## There are no stepwise instructions for this task.\n",
        "## you can write your code anyway you want.\n",
        "## But, you can only use functional programming.\n",
        "## Please provide necessary explanation in comments.\n",
        "## WRITE YOUR CODE HERE\n",
        "\n",
        "e_output = list(map(lambda x: (x[0], x[1][-1]), list(map(lambda x: (x, list(map(lambda x: x if x in vowels else '', x))), list(filter(lambda x: type(x) == str, t))))))\n",
        "e_output"
      ]
    }
  ],
  "metadata": {
    "colab": {
      "include_colab_link": true,
      "provenance": []
    },
    "kernelspec": {
      "display_name": "Python 3",
      "language": "python",
      "name": "python3"
    },
    "language_info": {
      "codemirror_mode": {
        "name": "ipython",
        "version": 3
      },
      "file_extension": ".py",
      "mimetype": "text/x-python",
      "name": "python",
      "nbconvert_exporter": "python",
      "pygments_lexer": "ipython3",
      "version": "3.8.1"
    },
    "vscode": {
      "interpreter": {
        "hash": "aee8b7b246df8f9039afb4144a1f6fd8d2ca17a180786b69acc140d282b71a49"
      }
    }
  },
  "nbformat": 4,
  "nbformat_minor": 0
}
