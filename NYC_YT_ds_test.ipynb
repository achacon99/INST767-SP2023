{
 "cells": [
  {
   "cell_type": "code",
   "execution_count": 1,
   "metadata": {},
   "outputs": [],
   "source": [
    "import pandas as pd\n",
    "\n",
    "filepath = '/Users/alejo/Downloads/yellow_tripdata_2022-01.parquet' #Ale's Mac\n",
    "\n",
    "#filepath = \"C:\\\\Users\\\\Ale\\\\Downloads\\\\yellow_tripdata_2022-01.parquet\" #Ale's PC\n",
    "\n",
    "cab_df = pd.read_parquet(filepath, engine= \"pyarrow\")"
   ]
  },
  {
   "cell_type": "code",
   "execution_count": 2,
   "metadata": {},
   "outputs": [
    {
     "name": "stdout",
     "output_type": "stream",
     "text": [
      "<class 'pandas.core.frame.DataFrame'>\n",
      "RangeIndex: 2463931 entries, 0 to 2463930\n",
      "Data columns (total 19 columns):\n",
      " #   Column                 Dtype         \n",
      "---  ------                 -----         \n",
      " 0   VendorID               int64         \n",
      " 1   tpep_pickup_datetime   datetime64[ns]\n",
      " 2   tpep_dropoff_datetime  datetime64[ns]\n",
      " 3   passenger_count        float64       \n",
      " 4   trip_distance          float64       \n",
      " 5   RatecodeID             float64       \n",
      " 6   store_and_fwd_flag     object        \n",
      " 7   PULocationID           int64         \n",
      " 8   DOLocationID           int64         \n",
      " 9   payment_type           int64         \n",
      " 10  fare_amount            float64       \n",
      " 11  extra                  float64       \n",
      " 12  mta_tax                float64       \n",
      " 13  tip_amount             float64       \n",
      " 14  tolls_amount           float64       \n",
      " 15  improvement_surcharge  float64       \n",
      " 16  total_amount           float64       \n",
      " 17  congestion_surcharge   float64       \n",
      " 18  airport_fee            float64       \n",
      "dtypes: datetime64[ns](2), float64(12), int64(4), object(1)\n",
      "memory usage: 357.2+ MB\n"
     ]
    }
   ],
   "source": [
    "cab_df.info()"
   ]
  },
  {
   "cell_type": "code",
   "execution_count": 3,
   "metadata": {},
   "outputs": [
    {
     "name": "stderr",
     "output_type": "stream",
     "text": [
      "/var/folders/x7/tnkf_wk95_1gvrkst7460qw80000gn/T/ipykernel_90708/358772098.py:5: DtypeWarning: Columns (21,27,28,29,30,31,32,33,35,42,44,50,52,59,60,70,72,74,77,89) have mixed types. Specify dtype option on import or set low_memory=False.\n",
      "  weather_import_df = pd.read_csv(filepath_2)\n"
     ]
    }
   ],
   "source": [
    "filepath_2 = '/Users/alejo/Downloads/NY Weather Data 2022.xlsx - 3300694.csv' #Ale's Mac\n",
    "\n",
    "#filepath_2 = 'C:\\\\Users\\\\Ale\\\\Downloads\\\\NY Weather Data 2022.xlsx - 3300694.csv' #Ale's PC\n",
    "\n",
    "weather_import_df = pd.read_csv(filepath_2)"
   ]
  },
  {
   "cell_type": "code",
   "execution_count": 4,
   "metadata": {},
   "outputs": [
    {
     "name": "stdout",
     "output_type": "stream",
     "text": [
      "<class 'pandas.core.frame.DataFrame'>\n",
      "RangeIndex: 11627 entries, 0 to 11626\n",
      "Data columns (total 124 columns):\n",
      " #    Column                                        Dtype  \n",
      "---   ------                                        -----  \n",
      " 0    STATION                                       int64  \n",
      " 1    DATE                                          object \n",
      " 2    REPORT_TYPE                                   object \n",
      " 3    SOURCE                                        int64  \n",
      " 4    AWND                                          float64\n",
      " 5    BackupDirection                               float64\n",
      " 6    BackupDistance                                float64\n",
      " 7    BackupDistanceUnit                            float64\n",
      " 8    BackupElements                                object \n",
      " 9    BackupElevation                               float64\n",
      " 10   BackupElevationUnit                           float64\n",
      " 11   BackupEquipment                               object \n",
      " 12   BackupLatitude                                float64\n",
      " 13   BackupLongitude                               float64\n",
      " 14   BackupName                                    object \n",
      " 15   CDSD                                          float64\n",
      " 16   CLDD                                          float64\n",
      " 17   DSNW                                          float64\n",
      " 18   DYHF                                          float64\n",
      " 19   DYTS                                          float64\n",
      " 20   DailyAverageDewPointTemperature               float64\n",
      " 21   DailyAverageDryBulbTemperature                object \n",
      " 22   DailyAverageRelativeHumidity                  float64\n",
      " 23   DailyAverageSeaLevelPressure                  float64\n",
      " 24   DailyAverageStationPressure                   float64\n",
      " 25   DailyAverageWetBulbTemperature                float64\n",
      " 26   DailyAverageWindSpeed                         float64\n",
      " 27   DailyCoolingDegreeDays                        object \n",
      " 28   DailyDepartureFromNormalAverageTemperature    object \n",
      " 29   DailyHeatingDegreeDays                        object \n",
      " 30   DailyMaximumDryBulbTemperature                object \n",
      " 31   DailyMinimumDryBulbTemperature                object \n",
      " 32   DailyPeakWindDirection                        object \n",
      " 33   DailyPeakWindSpeed                            object \n",
      " 34   DailyPrecipitation                            object \n",
      " 35   DailySnowDepth                                object \n",
      " 36   DailySnowfall                                 object \n",
      " 37   DailySustainedWindDirection                   float64\n",
      " 38   DailySustainedWindSpeed                       float64\n",
      " 39   DailyWeather                                  object \n",
      " 40   HDSD                                          float64\n",
      " 41   HTDD                                          float64\n",
      " 42   HourlyAltimeterSetting                        object \n",
      " 43   HourlyDewPointTemperature                     object \n",
      " 44   HourlyDryBulbTemperature                      object \n",
      " 45   HourlyPrecipitation                           object \n",
      " 46   HourlyPresentWeatherType                      object \n",
      " 47   HourlyPressureChange                          float64\n",
      " 48   HourlyPressureTendency                        float64\n",
      " 49   HourlyRelativeHumidity                        float64\n",
      " 50   HourlySeaLevelPressure                        object \n",
      " 51   HourlySkyConditions                           object \n",
      " 52   HourlyStationPressure                         object \n",
      " 53   HourlyVisibility                              object \n",
      " 54   HourlyWetBulbTemperature                      float64\n",
      " 55   HourlyWindDirection                           object \n",
      " 56   HourlyWindGustSpeed                           float64\n",
      " 57   HourlyWindSpeed                               float64\n",
      " 58   MonthlyAverageRH                              float64\n",
      " 59   MonthlyDaysWithGT001Precip                    object \n",
      " 60   MonthlyDaysWithGT010Precip                    object \n",
      " 61   MonthlyDaysWithGT32Temp                       float64\n",
      " 62   MonthlyDaysWithGT90Temp                       float64\n",
      " 63   MonthlyDaysWithLT0Temp                        float64\n",
      " 64   MonthlyDaysWithLT32Temp                       float64\n",
      " 65   MonthlyDepartureFromNormalAverageTemperature  float64\n",
      " 66   MonthlyDepartureFromNormalCoolingDegreeDays   float64\n",
      " 67   MonthlyDepartureFromNormalHeatingDegreeDays   float64\n",
      " 68   MonthlyDepartureFromNormalMaximumTemperature  float64\n",
      " 69   MonthlyDepartureFromNormalMinimumTemperature  float64\n",
      " 70   MonthlyDepartureFromNormalPrecipitation       object \n",
      " 71   MonthlyDewpointTemperature                    float64\n",
      " 72   MonthlyGreatestPrecip                         object \n",
      " 73   MonthlyGreatestPrecipDate                     object \n",
      " 74   MonthlyGreatestSnowDepth                      object \n",
      " 75   MonthlyGreatestSnowDepthDate                  float64\n",
      " 76   MonthlyGreatestSnowfall                       float64\n",
      " 77   MonthlyGreatestSnowfallDate                   object \n",
      " 78   MonthlyMaxSeaLevelPressureValue               float64\n",
      " 79   MonthlyMaxSeaLevelPressureValueDate           float64\n",
      " 80   MonthlyMaxSeaLevelPressureValueTime           float64\n",
      " 81   MonthlyMaximumTemperature                     float64\n",
      " 82   MonthlyMeanTemperature                        float64\n",
      " 83   MonthlyMinSeaLevelPressureValue               float64\n",
      " 84   MonthlyMinSeaLevelPressureValueDate           float64\n",
      " 85   MonthlyMinSeaLevelPressureValueTime           float64\n",
      " 86   MonthlyMinimumTemperature                     float64\n",
      " 87   MonthlySeaLevelPressure                       float64\n",
      " 88   MonthlyStationPressure                        float64\n",
      " 89   MonthlyTotalLiquidPrecipitation               object \n",
      " 90   MonthlyTotalSnowfall                          float64\n",
      " 91   MonthlyWetBulb                                float64\n",
      " 92   NormalsCoolingDegreeDay                       float64\n",
      " 93   NormalsHeatingDegreeDay                       float64\n",
      " 94   REM                                           object \n",
      " 95   REPORT_TYPE.1                                 object \n",
      " 96   SOURCE.1                                      int64  \n",
      " 97   ShortDurationEndDate005                       object \n",
      " 98   ShortDurationEndDate010                       object \n",
      " 99   ShortDurationEndDate015                       object \n",
      " 100  ShortDurationEndDate020                       object \n",
      " 101  ShortDurationEndDate030                       object \n",
      " 102  ShortDurationEndDate045                       object \n",
      " 103  ShortDurationEndDate060                       object \n",
      " 104  ShortDurationEndDate080                       object \n",
      " 105  ShortDurationEndDate100                       object \n",
      " 106  ShortDurationEndDate120                       object \n",
      " 107  ShortDurationEndDate150                       object \n",
      " 108  ShortDurationEndDate180                       object \n",
      " 109  ShortDurationPrecipitationValue005            float64\n",
      " 110  ShortDurationPrecipitationValue010            float64\n",
      " 111  ShortDurationPrecipitationValue015            float64\n",
      " 112  ShortDurationPrecipitationValue020            float64\n",
      " 113  ShortDurationPrecipitationValue030            float64\n",
      " 114  ShortDurationPrecipitationValue045            float64\n",
      " 115  ShortDurationPrecipitationValue060            float64\n",
      " 116  ShortDurationPrecipitationValue080            float64\n",
      " 117  ShortDurationPrecipitationValue100            float64\n",
      " 118  ShortDurationPrecipitationValue120            float64\n",
      " 119  ShortDurationPrecipitationValue150            float64\n",
      " 120  ShortDurationPrecipitationValue180            float64\n",
      " 121  Sunrise                                       float64\n",
      " 122  Sunset                                        float64\n",
      " 123  WindEquipmentChangeDate                       object \n",
      "dtypes: float64(71), int64(3), object(50)\n",
      "memory usage: 11.0+ MB\n"
     ]
    }
   ],
   "source": [
    "weather_import_df.info(10)"
   ]
  },
  {
   "cell_type": "code",
   "execution_count": 5,
   "metadata": {},
   "outputs": [
    {
     "name": "stdout",
     "output_type": "stream",
     "text": [
      "<class 'pandas.core.frame.DataFrame'>\n",
      "RangeIndex: 11627 entries, 0 to 11626\n",
      "Data columns (total 5 columns):\n",
      " #   Column                    Non-Null Count  Dtype  \n",
      "---  ------                    --------------  -----  \n",
      " 0   DATE                      11627 non-null  object \n",
      " 1   HourlyPrecipitation       9847 non-null   object \n",
      " 2   HourlyDryBulbTemperature  11248 non-null  object \n",
      " 3   HourlyWindSpeed           10774 non-null  float64\n",
      " 4   Sunrise                   365 non-null    float64\n",
      "dtypes: float64(2), object(3)\n",
      "memory usage: 454.3+ KB\n"
     ]
    }
   ],
   "source": [
    "weather_columns = weather_import_df[['DATE', 'HourlyPrecipitation', 'HourlyDryBulbTemperature', 'HourlyWindSpeed', 'Sunrise']]\n",
    "weather_columns.info()"
   ]
  },
  {
   "cell_type": "code",
   "execution_count": 6,
   "metadata": {},
   "outputs": [
    {
     "name": "stderr",
     "output_type": "stream",
     "text": [
      "/var/folders/x7/tnkf_wk95_1gvrkst7460qw80000gn/T/ipykernel_90708/1136518334.py:1: SettingWithCopyWarning: \n",
      "A value is trying to be set on a copy of a slice from a DataFrame.\n",
      "Try using .loc[row_indexer,col_indexer] = value instead\n",
      "\n",
      "See the caveats in the documentation: https://pandas.pydata.org/pandas-docs/stable/user_guide/indexing.html#returning-a-view-versus-a-copy\n",
      "  weather_columns['HourlyDryBulbTemperature'] = pd.to_numeric(weather_columns['HourlyDryBulbTemperature'], errors='ignore', downcast='float')\n"
     ]
    },
    {
     "data": {
      "text/plain": [
       "0          51\n",
       "1          51\n",
       "2          51\n",
       "3          52\n",
       "4          51\n",
       "         ... \n",
       "11622    54.0\n",
       "11623    54.0\n",
       "11624    54.0\n",
       "11625     NaN\n",
       "11626     NaN\n",
       "Name: HourlyDryBulbTemperature, Length: 11627, dtype: object"
      ]
     },
     "execution_count": 6,
     "metadata": {},
     "output_type": "execute_result"
    }
   ],
   "source": [
    "weather_columns['HourlyDryBulbTemperature'] = pd.to_numeric(weather_columns['HourlyDryBulbTemperature'], errors='ignore', downcast='float')\n",
    "weather_columns['HourlyDryBulbTemperature']"
   ]
  },
  {
   "cell_type": "code",
   "execution_count": 7,
   "metadata": {},
   "outputs": [
    {
     "name": "stderr",
     "output_type": "stream",
     "text": [
      "/var/folders/x7/tnkf_wk95_1gvrkst7460qw80000gn/T/ipykernel_90708/4117244399.py:1: SettingWithCopyWarning: \n",
      "A value is trying to be set on a copy of a slice from a DataFrame.\n",
      "Try using .loc[row_indexer,col_indexer] = value instead\n",
      "\n",
      "See the caveats in the documentation: https://pandas.pydata.org/pandas-docs/stable/user_guide/indexing.html#returning-a-view-versus-a-copy\n",
      "  weather_columns['DATE'] = pd.to_datetime(weather_columns['DATE'], unit='ns')\n"
     ]
    },
    {
     "data": {
      "text/plain": [
       "0       2022-01-01 00:51:00\n",
       "1       2022-01-01 01:51:00\n",
       "2       2022-01-01 02:30:00\n",
       "3       2022-01-01 02:38:00\n",
       "4       2022-01-01 02:51:00\n",
       "                ...        \n",
       "11622   2022-12-31 23:05:00\n",
       "11623   2022-12-31 23:34:00\n",
       "11624   2022-12-31 23:51:00\n",
       "11625   2022-12-31 23:59:00\n",
       "11626   2022-12-31 23:59:00\n",
       "Name: DATE, Length: 11627, dtype: datetime64[ns]"
      ]
     },
     "execution_count": 7,
     "metadata": {},
     "output_type": "execute_result"
    }
   ],
   "source": [
    "weather_columns['DATE'] = pd.to_datetime(weather_columns['DATE'], unit='ns')\n",
    "weather_columns['DATE']"
   ]
  },
  {
   "cell_type": "code",
   "execution_count": 12,
   "metadata": {},
   "outputs": [
    {
     "name": "stderr",
     "output_type": "stream",
     "text": [
      "/var/folders/x7/tnkf_wk95_1gvrkst7460qw80000gn/T/ipykernel_90708/149475388.py:1: SettingWithCopyWarning: \n",
      "A value is trying to be set on a copy of a slice from a DataFrame.\n",
      "Try using .loc[row_indexer,col_indexer] = value instead\n",
      "\n",
      "See the caveats in the documentation: https://pandas.pydata.org/pandas-docs/stable/user_guide/indexing.html#returning-a-view-versus-a-copy\n",
      "  weather_columns['HourlyDryBulbTemperature'] = pd.to_numeric(weather_columns['HourlyDryBulbTemperature'], errors= 'coerce', downcast= 'float')\n"
     ]
    }
   ],
   "source": [
    "weather_columns['HourlyDryBulbTemperature'] = pd.to_numeric(weather_columns['HourlyDryBulbTemperature'], errors= 'coerce', downcast= 'float')"
   ]
  },
  {
   "cell_type": "code",
   "execution_count": 13,
   "metadata": {},
   "outputs": [
    {
     "name": "stdout",
     "output_type": "stream",
     "text": [
      "<class 'pandas.core.frame.DataFrame'>\n",
      "RangeIndex: 11627 entries, 0 to 11626\n",
      "Data columns (total 2 columns):\n",
      " #   Column                    Non-Null Count  Dtype         \n",
      "---  ------                    --------------  -----         \n",
      " 0   DATE                      11627 non-null  datetime64[ns]\n",
      " 1   HourlyDryBulbTemperature  11245 non-null  float32       \n",
      "dtypes: datetime64[ns](1), float32(1)\n",
      "memory usage: 136.4 KB\n"
     ]
    }
   ],
   "source": [
    "weather_test = weather_columns[['DATE', 'HourlyDryBulbTemperature']]\n",
    "weather_test.info()"
   ]
  },
  {
   "cell_type": "code",
   "execution_count": 44,
   "metadata": {},
   "outputs": [
    {
     "data": {
      "text/html": [
       "<div>\n",
       "<style scoped>\n",
       "    .dataframe tbody tr th:only-of-type {\n",
       "        vertical-align: middle;\n",
       "    }\n",
       "\n",
       "    .dataframe tbody tr th {\n",
       "        vertical-align: top;\n",
       "    }\n",
       "\n",
       "    .dataframe thead th {\n",
       "        text-align: right;\n",
       "    }\n",
       "</style>\n",
       "<table border=\"1\" class=\"dataframe\">\n",
       "  <thead>\n",
       "    <tr style=\"text-align: right;\">\n",
       "      <th></th>\n",
       "      <th>DATE</th>\n",
       "      <th>HourlyDryBulbTemperature</th>\n",
       "    </tr>\n",
       "  </thead>\n",
       "  <tbody>\n",
       "    <tr>\n",
       "      <th>0</th>\n",
       "      <td>2022-01-01 00:00:00</td>\n",
       "      <td>51.000000</td>\n",
       "    </tr>\n",
       "    <tr>\n",
       "      <th>1</th>\n",
       "      <td>2022-01-01 01:00:00</td>\n",
       "      <td>51.000000</td>\n",
       "    </tr>\n",
       "    <tr>\n",
       "      <th>2</th>\n",
       "      <td>2022-01-01 02:00:00</td>\n",
       "      <td>51.333332</td>\n",
       "    </tr>\n",
       "    <tr>\n",
       "      <th>3</th>\n",
       "      <td>2022-01-01 03:00:00</td>\n",
       "      <td>50.500000</td>\n",
       "    </tr>\n",
       "    <tr>\n",
       "      <th>4</th>\n",
       "      <td>2022-01-01 04:00:00</td>\n",
       "      <td>50.000000</td>\n",
       "    </tr>\n",
       "    <tr>\n",
       "      <th>...</th>\n",
       "      <td>...</td>\n",
       "      <td>...</td>\n",
       "    </tr>\n",
       "    <tr>\n",
       "      <th>8755</th>\n",
       "      <td>2022-12-31 19:00:00</td>\n",
       "      <td>50.000000</td>\n",
       "    </tr>\n",
       "    <tr>\n",
       "      <th>8756</th>\n",
       "      <td>2022-12-31 20:00:00</td>\n",
       "      <td>53.000000</td>\n",
       "    </tr>\n",
       "    <tr>\n",
       "      <th>8757</th>\n",
       "      <td>2022-12-31 21:00:00</td>\n",
       "      <td>54.000000</td>\n",
       "    </tr>\n",
       "    <tr>\n",
       "      <th>8758</th>\n",
       "      <td>2022-12-31 22:00:00</td>\n",
       "      <td>54.666668</td>\n",
       "    </tr>\n",
       "    <tr>\n",
       "      <th>8759</th>\n",
       "      <td>2022-12-31 23:00:00</td>\n",
       "      <td>54.000000</td>\n",
       "    </tr>\n",
       "  </tbody>\n",
       "</table>\n",
       "<p>8760 rows × 2 columns</p>\n",
       "</div>"
      ],
      "text/plain": [
       "                    DATE  HourlyDryBulbTemperature\n",
       "0    2022-01-01 00:00:00                 51.000000\n",
       "1    2022-01-01 01:00:00                 51.000000\n",
       "2    2022-01-01 02:00:00                 51.333332\n",
       "3    2022-01-01 03:00:00                 50.500000\n",
       "4    2022-01-01 04:00:00                 50.000000\n",
       "...                  ...                       ...\n",
       "8755 2022-12-31 19:00:00                 50.000000\n",
       "8756 2022-12-31 20:00:00                 53.000000\n",
       "8757 2022-12-31 21:00:00                 54.000000\n",
       "8758 2022-12-31 22:00:00                 54.666668\n",
       "8759 2022-12-31 23:00:00                 54.000000\n",
       "\n",
       "[8760 rows x 2 columns]"
      ]
     },
     "execution_count": 44,
     "metadata": {},
     "output_type": "execute_result"
    }
   ],
   "source": [
    "weather_df = weather_test.resample('60min', on= 'DATE').mean().reset_index()\n",
    "\n",
    "weather_df#.info()"
   ]
  },
  {
   "cell_type": "code",
   "execution_count": 43,
   "metadata": {},
   "outputs": [],
   "source": [
    "cab_df = cab_df.rename(columns={'tpep_pickup_datetime' : 'DATE'})"
   ]
  },
  {
   "cell_type": "code",
   "execution_count": 45,
   "metadata": {},
   "outputs": [
    {
     "ename": "",
     "evalue": "",
     "output_type": "error",
     "traceback": [
      "\u001b[1;31mCanceled future for execute_request message before replies were done"
     ]
    },
    {
     "ename": "",
     "evalue": "",
     "output_type": "error",
     "traceback": [
      "\u001b[1;31mThe Kernel crashed while executing code in the the current cell or a previous cell. Please review the code in the cell(s) to identify a possible cause of the failure. Click <a href='https://aka.ms/vscodeJupyterKernelCrash'>here</a> for more info. View Jupyter <a href='command:jupyter.viewOutput'>log</a> for further details."
     ]
    }
   ],
   "source": [
    "merged_df = pd.merge(cab_df, weather_df, left_on= cab_df.DATE.dt.hour, right_on= weather_df.DATE.dt.hour, how='left')\n",
    "merged_df"
   ]
  },
  {
   "cell_type": "code",
   "execution_count": null,
   "metadata": {},
   "outputs": [],
   "source": []
  }
 ],
 "metadata": {
  "kernelspec": {
   "display_name": "Python 3",
   "language": "python",
   "name": "python3"
  },
  "language_info": {
   "codemirror_mode": {
    "name": "ipython",
    "version": 3
   },
   "file_extension": ".py",
   "mimetype": "text/x-python",
   "name": "python",
   "nbconvert_exporter": "python",
   "pygments_lexer": "ipython3",
   "version": "3.8.1"
  },
  "orig_nbformat": 4,
  "vscode": {
   "interpreter": {
    "hash": "aee8b7b246df8f9039afb4144a1f6fd8d2ca17a180786b69acc140d282b71a49"
   }
  }
 },
 "nbformat": 4,
 "nbformat_minor": 2
}
